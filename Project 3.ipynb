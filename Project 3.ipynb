{
 "cells": [
  {
   "cell_type": "code",
   "execution_count": 5,
   "id": "c8344d77",
   "metadata": {},
   "outputs": [
    {
     "name": "stdout",
     "output_type": "stream",
     "text": [
      "Index(['Feature', 'Variable Type', 'Variable', 'Value Type'], dtype='object')\n"
     ]
    }
   ],
   "source": [
    "import pandas as pd\n",
    "\n",
    "# Load the dataset\n",
    "df = pd.read_csv('D:/studies girl/certificate/data.csv')\n",
    "\n",
    "# Print the columns to verify\n",
    "print(df.columns)\n"
   ]
  },
  {
   "cell_type": "code",
   "execution_count": 6,
   "id": "d2913e03",
   "metadata": {},
   "outputs": [],
   "source": [
    "# Strip any leading/trailing spaces from column names\n",
    "df.columns = df.columns.str.strip()\n"
   ]
  },
  {
   "cell_type": "code",
   "execution_count": 7,
   "id": "437f49ac",
   "metadata": {},
   "outputs": [
    {
     "name": "stdout",
     "output_type": "stream",
     "text": [
      "                   Feature         Variable Type Variable        Value Type\n",
      "0                      Age    Objective\\nFeature      age        int (days)\n",
      "1                   Height    Objective\\nFeature   height          int (cm)\n",
      "2                   Weight    Objective\\nFeature   weight        float (kg)\n",
      "3                   Gender    Objective\\nFeature   gender  categorical code\n",
      "4  Systolic blood pressure  Examination\\nFeature    ap_hi               int\n"
     ]
    }
   ],
   "source": [
    "print(df.head())  # Print the first few rows to check the data\n"
   ]
  },
  {
   "cell_type": "code",
   "execution_count": 8,
   "id": "955064ed",
   "metadata": {},
   "outputs": [
    {
     "name": "stdout",
     "output_type": "stream",
     "text": [
      "Index(['Feature', 'Variable Type', 'Variable', 'Value Type'], dtype='object')\n",
      "                   Feature         Variable Type Variable        Value Type\n",
      "0                      Age    Objective\\nFeature      age        int (days)\n",
      "1                   Height    Objective\\nFeature   height          int (cm)\n",
      "2                   Weight    Objective\\nFeature   weight        float (kg)\n",
      "3                   Gender    Objective\\nFeature   gender  categorical code\n",
      "4  Systolic blood pressure  Examination\\nFeature    ap_hi               int\n",
      "Column 'height' not found in the dataset.\n"
     ]
    }
   ],
   "source": [
    "import pandas as pd\n",
    "import seaborn as sns\n",
    "import matplotlib.pyplot as plt\n",
    "import numpy as np\n",
    "\n",
    "# Load the dataset\n",
    "df = pd.read_csv('D:/studies girl/certificate/data.csv')\n",
    "\n",
    "# Print column names to debug\n",
    "print(df.columns)\n",
    "\n",
    "# If column names have extra spaces, clean them\n",
    "df.columns = df.columns.str.strip()\n",
    "\n",
    "# Check the first few rows of the dataframe to understand its structure\n",
    "print(df.head())\n",
    "\n",
    "# Ensure the column 'height' exists and proceed\n",
    "if 'height' in df.columns:\n",
    "    # 1. Add an overweight column\n",
    "    df['height_m'] = df['height'] / 100  # Convert height to meters\n",
    "    df['BMI'] = df['weight'] / (df['height_m'] ** 2)  # Calculate BMI\n",
    "    df['overweight'] = df['BMI'].apply(lambda x: 1 if x > 25 else 0)  # Determine overweight\n",
    "    df.drop(columns=['height_m', 'BMI'], inplace=True)  # Drop temporary columns\n",
    "\n",
    "    # 2. Normalize the data\n",
    "    df['cholesterol'] = df['cholesterol'].apply(lambda x: 0 if x == 1 else 1)\n",
    "    df['gluc'] = df['gluc'].apply(lambda x: 0 if x == 1 else 1)\n",
    "\n",
    "    # 3. Draw the Categorical Plot\n",
    "    def draw_cat_plot():\n",
    "        # Convert data to long format\n",
    "        df_cat = pd.melt(df, id_vars=['cardio'], value_vars=['cholesterol', 'gluc', 'smoke', 'alco', 'active', 'overweight'])\n",
    "        \n",
    "        # Group and reformat the data\n",
    "        df_cat = df_cat.groupby(['cardio', 'variable', 'value']).size().reset_index(name='total')\n",
    "        df_cat = df_cat.rename(columns={'variable': 'feature'})\n",
    "        \n",
    "        # Draw the categorical plot\n",
    "        fig = sns.catplot(x='feature', hue='value', col='cardio', data=df_cat, kind='count')\n",
    "        fig.set_axis_labels('Feature', 'Count')\n",
    "        fig.set_titles('Cardio: {col_name}')\n",
    "        \n",
    "        plt.show()\n",
    "\n",
    "    draw_cat_plot()\n",
    "\n",
    "    # 4. Clean the data\n",
    "    df_heat = df[\n",
    "        (df['ap_lo'] <= df['ap_hi']) &\n",
    "        (df['height'] >= df['height'].quantile(0.025)) &\n",
    "        (df['height'] <= df['height'].quantile(0.975)) &\n",
    "        (df['weight'] >= df['weight'].quantile(0.025)) &\n",
    "        (df['weight'] <= df['weight'].quantile(0.975))\n",
    "    ]\n",
    "\n",
    "    # 5. Draw the Heat Map\n",
    "    def draw_heat_map():\n",
    "        # Calculate correlation matrix\n",
    "        corr = df_heat.corr()\n",
    "        \n",
    "        # Generate a mask for the upper triangle\n",
    "        mask = np.triu(np.ones_like(corr, dtype=bool))\n",
    "        \n",
    "        # Set up the matplotlib figure\n",
    "        plt.figure(figsize=(12, 10))\n",
    "        \n",
    "        # Draw the heatmap\n",
    "        sns.heatmap(corr, mask=mask, annot=True, fmt='.1f', cmap='coolwarm', center=0,\n",
    "                    square=True, linewidths=0.5, cbar_kws={\"shrink\": .5})\n",
    "        \n",
    "        plt.show()\n",
    "\n",
    "    draw_heat_map()\n",
    "else:\n",
    "    print(\"Column 'height' not found in the dataset.\")\n"
   ]
  },
  {
   "cell_type": "code",
   "execution_count": null,
   "id": "7e2b3eac",
   "metadata": {},
   "outputs": [],
   "source": []
  }
 ],
 "metadata": {
  "kernelspec": {
   "display_name": "Python 3 (ipykernel)",
   "language": "python",
   "name": "python3"
  },
  "language_info": {
   "codemirror_mode": {
    "name": "ipython",
    "version": 3
   },
   "file_extension": ".py",
   "mimetype": "text/x-python",
   "name": "python",
   "nbconvert_exporter": "python",
   "pygments_lexer": "ipython3",
   "version": "3.11.4"
  }
 },
 "nbformat": 4,
 "nbformat_minor": 5
}
